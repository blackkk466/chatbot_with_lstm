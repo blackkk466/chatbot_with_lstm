{
  "nbformat": 4,
  "nbformat_minor": 0,
  "metadata": {
    "colab": {
      "name": "deneme.ipynb",
      "version": "0.3.2",
      "provenance": [],
      "include_colab_link": true
    },
    "kernelspec": {
      "name": "python3",
      "display_name": "Python 3"
    }
  },
  "cells": [
    {
      "cell_type": "markdown",
      "metadata": {
        "id": "view-in-github",
        "colab_type": "text"
      },
      "source": [
        "[View in Colaboratory](https://colab.research.google.com/github/blackkk466/chatbot_with_lstm/blob/master/deneme.ipynb)"
      ]
    },
    {
      "metadata": {
        "id": "mr7MEYF42MiW",
        "colab_type": "code",
        "colab": {}
      },
      "cell_type": "code",
      "source": [
        "from __future__ import print_function\n",
        "\n",
        "import numpy as np\n",
        "import tensorflow as tf\n",
        "from tensorflow.contrib import rnn\n",
        "import random\n",
        "import collections\n",
        "import time\n",
        "\n",
        "start_time = time.time()\n",
        "def elapsed(sec):\n",
        "    if sec<60:\n",
        "        return str(sec) + \" sec\"\n",
        "    elif sec<(60*60):\n",
        "        return str(sec/60) + \" min\"\n",
        "    else:\n",
        "        return str(sec/(60*60)) + \" hr\""
      ],
      "execution_count": 0,
      "outputs": []
    },
    {
      "metadata": {
        "id": "PT1ogh462VGp",
        "colab_type": "code",
        "colab": {}
      },
      "cell_type": "code",
      "source": [
        "# Target log path\n",
        "logs_path = '/tmp/tensorflow/rnn_words'\n",
        "writer = tf.summary.FileWriter(logs_path)"
      ],
      "execution_count": 0,
      "outputs": []
    },
    {
      "metadata": {
        "id": "WzV8Tlso2VsI",
        "colab_type": "code",
        "colab": {}
      },
      "cell_type": "code",
      "source": [
        "\n",
        "# Text file containing words for training\n",
        "training_file = 'drive/My Drive/Colab Notebooks/belling_the_cat.txt'"
      ],
      "execution_count": 0,
      "outputs": []
    },
    {
      "metadata": {
        "id": "ynoRBbMc2e-w",
        "colab_type": "code",
        "colab": {
          "base_uri": "https://localhost:8080/",
          "height": 35
        },
        "outputId": "6021d7ee-07f6-487d-b4c7-472ca44ed3a1"
      },
      "cell_type": "code",
      "source": [
        "print(training_file)"
      ],
      "execution_count": 11,
      "outputs": [
        {
          "output_type": "stream",
          "text": [
            "drive/My Drive/Colab Notebooks/belling_the_cat.txt\n"
          ],
          "name": "stdout"
        }
      ]
    },
    {
      "metadata": {
        "id": "fA6aZsm321MZ",
        "colab_type": "code",
        "colab": {}
      },
      "cell_type": "code",
      "source": [
        "def read_data(fname):\n",
        "    with open(fname) as f:\n",
        "        content = f.readlines()\n",
        "    content = [x.strip() for x in content]\n",
        "    content = [word for i in range(len(content)) for word in content[i].split()]\n",
        "    content = np.array(content)\n",
        "    return content"
      ],
      "execution_count": 0,
      "outputs": []
    },
    {
      "metadata": {
        "id": "pJRZlgZK8iSc",
        "colab_type": "code",
        "colab": {
          "base_uri": "https://localhost:8080/",
          "height": 119
        },
        "outputId": "49260823-06e8-40a7-8d42-7be3ccd62eaa"
      },
      "cell_type": "code",
      "source": [
        "!git clone  https://github.com/blackkk466/chatbot_with_lstm.git"
      ],
      "execution_count": 1,
      "outputs": [
        {
          "output_type": "stream",
          "text": [
            "Cloning into 'chatbot_with_lstm'...\n",
            "remote: Enumerating objects: 13, done.\u001b[K\n",
            "remote: Counting objects: 100% (13/13), done.\u001b[K\n",
            "remote: Compressing objects: 100% (9/9), done.\u001b[K\n",
            "remote: Total 13 (delta 2), reused 0 (delta 0), pack-reused 0\u001b[K\n",
            "Unpacking objects: 100% (13/13), done.\n"
          ],
          "name": "stdout"
        }
      ]
    },
    {
      "metadata": {
        "id": "ymZO06izVn1m",
        "colab_type": "code",
        "colab": {
          "base_uri": "https://localhost:8080/",
          "height": 34
        },
        "outputId": "bd40794b-c60d-4fd2-8d6a-c643e7594c88"
      },
      "cell_type": "code",
      "source": [
        "!ls chatbot_with_lstm"
      ],
      "execution_count": 2,
      "outputs": [
        {
          "output_type": "stream",
          "text": [
            "hello_world.txt  README.md  S1B1.txt\n"
          ],
          "name": "stdout"
        }
      ]
    },
    {
      "metadata": {
        "id": "ypQlBY0tXIfI",
        "colab_type": "code",
        "colab": {
          "base_uri": "https://localhost:8080/",
          "height": 34
        },
        "outputId": "b3744cff-08b5-4ac6-c423-76cf2681da5c"
      },
      "cell_type": "code",
      "source": [
        "!cat chatbot_with_lstm/hello_world.txt"
      ],
      "execution_count": 3,
      "outputs": [
        {
          "output_type": "stream",
          "text": [
            "hello world!"
          ],
          "name": "stdout"
        }
      ]
    }
  ]
}